{
 "cells": [
  {
   "cell_type": "markdown",
   "metadata": {},
   "source": [
    "# a couple of ways to do two-way ANOVA with Python\n",
    "Here is my version of [this article](https://www.marsja.se/three-ways-to-carry-out-2-way-anova-with-python/)\n",
    "There are a lot of errors, and so, I'd fixed it"
   ]
  },
  {
   "cell_type": "code",
   "execution_count": 1,
   "metadata": {},
   "outputs": [],
   "source": [
    "import pandas as pd\n",
    "import statsmodels.api as sm\n",
    "from statsmodels.formula.api import ols\n",
    "from statsmodels.stats.anova import anova_lm\n",
    "from statsmodels.graphics.factorplots import interaction_plot\n",
    "import matplotlib.pyplot as plt\n",
    "from scipy import stats\n",
    "import matplotlib.pyplot as plt\n",
    "import seaborn as sns"
   ]
  },
  {
   "cell_type": "markdown",
   "metadata": {},
   "source": [
    "La idea intuitiva detrás del funcionamiento básico de un ANOVA es la siguiente:\n",
    "\n",
    "1) Calcular la media de cada uno de los grupos.\n",
    "\n",
    "2) Calcular la varianza de las medias de los grupos. Esta es la varianza explicada por la variable grupo, y se le conoce como intervarianza.\n",
    "\n",
    "3) Calcular las varianzas internas de cada grupo y obtener su promedio. Esta es la varianza no explicada por la variable grupo, y se le conoce como intravarianza.\n",
    "\n",
    "Acorde a la hipótesis nula de que todas las observaciones proceden de la misma población (tienen la misma media y varianza), es de esperar que la intervarianza y la intravarianza sean iguales. A medida que las medias de los grupos se alejan las unas de las otras, la intervarianza aumenta y deja de ser igual a la intravarianza.\n",
    "\n",
    "El estadístico estudiado en el ANOVA ( 𝐹𝑟𝑎𝑡𝑖𝑜\n",
    " ), se calcula como el ratio entre la varianza de las medias de los grupos (intervarianza o varianza de las medias) y el promedio de la varianza dentro de los grupos (intravarianza o varianza de grupo). Este estadístico sigue una distribución F de Fisher-Snedecor. Si se cumple la hipótesis nula, el estadístico  𝐹\n",
    "  adquiere el valor de 1 puesto que la intervarianza es igual a la intravarianza. A medida que las medias de los grupos se alejan entre ellas, mayor es la intervarianza en comparación a la intravarianza, lo que genera valores de  𝐹\n",
    "  superiores a 1, que tienen una probabilidad asociada menor (menor el p-value).\n",
    "\n",
    "En concreto, si  $𝑆_1^2$ es la la varianza de una muestra de tamaño  $𝑁_1$ extraída de una población normal de varianza  $𝜎_1^2$, y  $𝑆_2^2$ es la la varianza de una muestra de tamaño  $𝑁_2$ extraída de una población normal de varianza  $𝜎_2^2$, y ambas muestras son independientes, el cociente:\n",
    "\n",
    "$ F = \\frac{\\frac{S_1^2}{\\sigma_1^2}}{\\frac{S_2^2}{\\sigma_2^2}} $\n",
    "\n",
    "Donde:\n",
    "- $S_1^2 $ es la variabilidad entre los grupos.\n",
    "- $\\sigma_1^2$ es la varianza dentro de los grupos.\n",
    "- $S_2^2$ es la variabilidad dentro de los grupos.\n",
    "- $ \\sigma_2^2 $ es la varianza total.\n",
    "\n",
    "se distribuye como una variable F de Fisher-Snedecor con $( 𝑁_1y  𝑁_2 )$ grados de libertad. En el caso del ANOVA, dado que dos de las condiciones son la normalidad de los grupos y la homocedasticidad de varianza ( $𝜎_1^2$= $𝜎_2^2$ ), el valor  𝐹\n",
    "  se puede obtener dividiendo las dos varianzas calculadas a partir de las muestras (intervariaza e intravarianza).\n",
    "\n",
    "Existen diferentes tipos de ANOVA dependiendo de la si se trata de datos independientes (ANOVA entre sujetos), si son pareados (ANOVA de mediciones repetidas), si comparan la variable cuantitativa dependiente contra los niveles de una única variable cualitativa o factor (ANOVA de una vía) o frente a dos factores (ANOVA de dos vías). Este último puede ser a su vez aditivo o de interacción (los factores son independientes o no lo son). Cada uno de estos tipos de ANOVA tiene una serie de requerimientos propios."
   ]
  },
  {
   "cell_type": "markdown",
   "metadata": {},
   "source": [
    "El ANOVA de una vía, también conocido como ANOVA con un factor o modelo factorial de un solo factor, permite estudiar si existen diferencias significativas entre la media de una variable aleatoria continua en los diferentes niveles de otra variable cualitativa o factor, cuando los datos no están pareados. Es una extensión de los t-test independientes para más de dos grupos.\n",
    "\n",
    "Las hipótesis contrastadas en un ANOVA de un factor son:\n",
    "\n",
    "* 𝐻0: No hay diferencias entre las medias de los diferentes grupos :  𝜇1=𝜇2...=𝜇𝑘=𝜇\n",
    " \n",
    "* 𝐻1: Al menos un par de medias son significativamente distintas la una de la otra.\n",
    "\n"
   ]
  },
  {
   "cell_type": "markdown",
   "metadata": {},
   "source": [
    "## Datos\n",
    "\n",
    "Este dataset contiene información sobre el crecimiento de los odontoblastos (dientes) en 10 cobayas (guinea pigs) bajo tres niveles de dosificación de Vitamina C (0.5, 1, y 2 mg) con dos métodos de administración (jugo de naranja - OJ, y ácido ascórbico - VC)\n",
    "\n",
    "* len: Longitud del diente.\n",
    "* supp: Tipo de suplemento (VC o OJ).\n",
    "* dose: Dosis en miligramos (0.5, 1.0, 2.0).\n",
    "\n",
    "### Razones para usar ANOVA en este dataset:\n",
    "Comparar Múltiples Grupos:\n",
    "\n",
    "* Suplemento (supp): Comparar las medias de longitud de los dientes entre los suplementos OJ (jugo de naranja) y VC (ácido ascórbico).\n",
    "* Dosis (dose): Comparar las medias de longitud de los dientes entre diferentes niveles de dosis (0.5, 1.0, 2.0 mg).\n",
    "\n",
    "#### Evaluar Interacciones:\n",
    "\n",
    "Ver si hay una interacción entre el tipo de suplemento y la dosis en la longitud de los dientes.\n",
    "\n",
    "#### Detección de Diferencias Significativas:\n",
    "\n",
    "Identificar si las diferencias observadas en las medias son estadísticamente significativas o simplemente se deben al azar.\n"
   ]
  },
  {
   "cell_type": "code",
   "execution_count": 2,
   "metadata": {},
   "outputs": [
    {
     "data": {
      "text/html": [
       "<div>\n",
       "<style scoped>\n",
       "    .dataframe tbody tr th:only-of-type {\n",
       "        vertical-align: middle;\n",
       "    }\n",
       "\n",
       "    .dataframe tbody tr th {\n",
       "        vertical-align: top;\n",
       "    }\n",
       "\n",
       "    .dataframe thead th {\n",
       "        text-align: right;\n",
       "    }\n",
       "</style>\n",
       "<table border=\"1\" class=\"dataframe\">\n",
       "  <thead>\n",
       "    <tr style=\"text-align: right;\">\n",
       "      <th></th>\n",
       "      <th>len</th>\n",
       "      <th>supp</th>\n",
       "      <th>dose</th>\n",
       "    </tr>\n",
       "  </thead>\n",
       "  <tbody>\n",
       "    <tr>\n",
       "      <th>15</th>\n",
       "      <td>17.3</td>\n",
       "      <td>VC</td>\n",
       "      <td>1.0</td>\n",
       "    </tr>\n",
       "    <tr>\n",
       "      <th>43</th>\n",
       "      <td>26.4</td>\n",
       "      <td>OJ</td>\n",
       "      <td>1.0</td>\n",
       "    </tr>\n",
       "    <tr>\n",
       "      <th>26</th>\n",
       "      <td>26.7</td>\n",
       "      <td>VC</td>\n",
       "      <td>2.0</td>\n",
       "    </tr>\n",
       "    <tr>\n",
       "      <th>10</th>\n",
       "      <td>16.5</td>\n",
       "      <td>VC</td>\n",
       "      <td>1.0</td>\n",
       "    </tr>\n",
       "    <tr>\n",
       "      <th>4</th>\n",
       "      <td>6.4</td>\n",
       "      <td>VC</td>\n",
       "      <td>0.5</td>\n",
       "    </tr>\n",
       "    <tr>\n",
       "      <th>38</th>\n",
       "      <td>16.5</td>\n",
       "      <td>OJ</td>\n",
       "      <td>0.5</td>\n",
       "    </tr>\n",
       "    <tr>\n",
       "      <th>59</th>\n",
       "      <td>23.0</td>\n",
       "      <td>OJ</td>\n",
       "      <td>2.0</td>\n",
       "    </tr>\n",
       "    <tr>\n",
       "      <th>29</th>\n",
       "      <td>29.5</td>\n",
       "      <td>VC</td>\n",
       "      <td>2.0</td>\n",
       "    </tr>\n",
       "    <tr>\n",
       "      <th>13</th>\n",
       "      <td>17.3</td>\n",
       "      <td>VC</td>\n",
       "      <td>1.0</td>\n",
       "    </tr>\n",
       "    <tr>\n",
       "      <th>42</th>\n",
       "      <td>23.6</td>\n",
       "      <td>OJ</td>\n",
       "      <td>1.0</td>\n",
       "    </tr>\n",
       "  </tbody>\n",
       "</table>\n",
       "</div>"
      ],
      "text/plain": [
       "     len supp  dose\n",
       "15  17.3   VC   1.0\n",
       "43  26.4   OJ   1.0\n",
       "26  26.7   VC   2.0\n",
       "10  16.5   VC   1.0\n",
       "4    6.4   VC   0.5\n",
       "38  16.5   OJ   0.5\n",
       "59  23.0   OJ   2.0\n",
       "29  29.5   VC   2.0\n",
       "13  17.3   VC   1.0\n",
       "42  23.6   OJ   1.0"
      ]
     },
     "execution_count": 2,
     "metadata": {},
     "output_type": "execute_result"
    }
   ],
   "source": [
    "datafile = \"../../data/ToothGrowth.csv\"\n",
    "data = pd.read_csv(datafile).drop(\"Unnamed: 0\", axis=1)\n",
    "data.sample(10)"
   ]
  },
  {
   "cell_type": "markdown",
   "metadata": {},
   "source": [
    "## Número de grupos, observaciones por grupo y distribución de las observaciones¶"
   ]
  },
  {
   "cell_type": "markdown",
   "metadata": {},
   "source": [
    "Se identifica el número de grupos y cantidad de observaciones por grupo para determinar si es un modelo equilibrado. También se calculan la media y desviación típica de caga grupo."
   ]
  },
  {
   "cell_type": "code",
   "execution_count": 3,
   "metadata": {},
   "outputs": [
    {
     "data": {
      "text/plain": [
       "supp\n",
       "OJ    30\n",
       "VC    30\n",
       "dtype: int64"
      ]
     },
     "execution_count": 3,
     "metadata": {},
     "output_type": "execute_result"
    }
   ],
   "source": [
    "# Número de observaciones por grupo\n",
    "data.groupby(\"supp\").size()"
   ]
  },
  {
   "cell_type": "code",
   "execution_count": 4,
   "metadata": {},
   "outputs": [
    {
     "data": {
      "text/html": [
       "<div>\n",
       "<style scoped>\n",
       "    .dataframe tbody tr th:only-of-type {\n",
       "        vertical-align: middle;\n",
       "    }\n",
       "\n",
       "    .dataframe tbody tr th {\n",
       "        vertical-align: top;\n",
       "    }\n",
       "\n",
       "    .dataframe thead th {\n",
       "        text-align: right;\n",
       "    }\n",
       "</style>\n",
       "<table border=\"1\" class=\"dataframe\">\n",
       "  <thead>\n",
       "    <tr style=\"text-align: right;\">\n",
       "      <th></th>\n",
       "      <th>supp</th>\n",
       "      <th>OJ</th>\n",
       "      <th>VC</th>\n",
       "    </tr>\n",
       "  </thead>\n",
       "  <tbody>\n",
       "    <tr>\n",
       "      <th rowspan=\"2\" valign=\"top\">len</th>\n",
       "      <th>mean</th>\n",
       "      <td>20.663333</td>\n",
       "      <td>16.963333</td>\n",
       "    </tr>\n",
       "    <tr>\n",
       "      <th>std</th>\n",
       "      <td>6.605561</td>\n",
       "      <td>8.266029</td>\n",
       "    </tr>\n",
       "    <tr>\n",
       "      <th rowspan=\"2\" valign=\"top\">dose</th>\n",
       "      <th>mean</th>\n",
       "      <td>1.166667</td>\n",
       "      <td>1.166667</td>\n",
       "    </tr>\n",
       "    <tr>\n",
       "      <th>std</th>\n",
       "      <td>0.634270</td>\n",
       "      <td>0.634270</td>\n",
       "    </tr>\n",
       "  </tbody>\n",
       "</table>\n",
       "</div>"
      ],
      "text/plain": [
       "supp              OJ         VC\n",
       "len  mean  20.663333  16.963333\n",
       "     std    6.605561   8.266029\n",
       "dose mean   1.166667   1.166667\n",
       "     std    0.634270   0.634270"
      ]
     },
     "execution_count": 4,
     "metadata": {},
     "output_type": "execute_result"
    }
   ],
   "source": [
    "# Média y desviación típica por grupo\n",
    "data.groupby(\"supp\").agg([\"mean\", \"std\"]).T"
   ]
  },
  {
   "cell_type": "markdown",
   "metadata": {},
   "source": [
    "## Análisis gráfico\n",
    "Dos de las representación más útiles antes de realizar un ANOVA son los gráficos Box-Plot y los Violin-Plot.\n",
    "\n"
   ]
  },
  {
   "cell_type": "code",
   "execution_count": 5,
   "metadata": {},
   "outputs": [
    {
     "name": "stderr",
     "output_type": "stream",
     "text": [
      "/opt/homebrew/anaconda3/envs/mlcourse/lib/python3.9/site-packages/seaborn/categorical.py:166: FutureWarning: Setting a gradient palette using color= is deprecated and will be removed in version 0.13. Set `palette='dark:black'` for same effect.\n",
      "  warnings.warn(msg, FutureWarning)\n",
      "/opt/homebrew/anaconda3/envs/mlcourse/lib/python3.9/site-packages/seaborn/_oldcore.py:1119: FutureWarning: use_inf_as_na option is deprecated and will be removed in a future version. Convert inf values to NaN before operating instead.\n",
      "  with pd.option_context('mode.use_inf_as_na', True):\n",
      "/opt/homebrew/anaconda3/envs/mlcourse/lib/python3.9/site-packages/seaborn/_oldcore.py:1119: FutureWarning: use_inf_as_na option is deprecated and will be removed in a future version. Convert inf values to NaN before operating instead.\n",
      "  with pd.option_context('mode.use_inf_as_na', True):\n"
     ]
    },
    {
     "data": {
      "image/png": "[encoded data removed]",
      "text/plain": [
       "<Figure size 1000x600 with 1 Axes>"
      ]
     },
     "metadata": {},
     "output_type": "display_data"
    }
   ],
   "source": [
    "# Crear la figura y los ejes\n",
    "fig, ax = plt.subplots(1, 1, figsize=(10, 6))\n",
    "\n",
    "# Crear un boxplot para visualizar la distribución de los datos\n",
    "sns.boxplot(x=\"dose\", y=\"len\", hue=\"supp\", data=data, ax=ax)\n",
    "\n",
    "# Agregar un swarmplot para ver la dispersión de los datos\n",
    "sns.swarmplot(x=\"dose\", y=\"len\", hue=\"supp\", data=data, dodge=True, color='black', alpha=0.5, ax=ax)\n",
    "\n",
    "# Ajustar la leyenda para evitar duplicados\n",
    "handles, labels = ax.get_legend_handles_labels()\n",
    "ax.legend(handles[:2], labels[:2], title='Supp')\n",
    "\n",
    "# Etiquetas de los ejes y título\n",
    "ax.set_xlabel(\"Dosis (mg)\")\n",
    "ax.set_ylabel(\"Longitud del diente\")\n",
    "ax.set_title(\"Distribución de la longitud de los dientes por dosis y tipo de suplemento\")\n",
    "\n",
    "# Mostrar la gráfica\n",
    "plt.show()"
   ]
  },
  {
   "cell_type": "markdown",
   "metadata": {},
   "source": [
    "1) Efecto de la Dosis:\n",
    "\n",
    "* A medida que aumenta la dosis de Vitamina C, la longitud de los dientes también aumenta para ambos tipos de suplemento.\n",
    "Las medianas de la longitud de los dientes son claramente mayores para las dosis de 1.0 y 2.0 mg en comparación con la dosis de 0.5 mg.\n",
    "\n",
    "* Las medianas de la longitud de los dientes son claramente mayores para las dosis de 1.0 y 2.0 mg en comparación con la dosis de 0.5 mg.\n",
    "\n",
    "2) Comparación entre suplementos:\n",
    "\n",
    "* Parece que el jugo de naranja (OJ) supera al acido ascórbico (vc) Excepto para la dosis de 1mg, donde tienen la misma mediana.\n",
    "\n",
    "3) Variabilidad:\n",
    "\n",
    "* La variabilidad en la longitud de los dientes (indicada por la altura de las cajas y la longitud de los bigotes) tiende a ser mayor con dosis más altas, especialmente para el ácido ascórbico (VC) a 2.0 mg.\n",
    "\n"
   ]
  },
  {
   "cell_type": "markdown",
   "metadata": {},
   "source": []
  },
  {
   "cell_type": "code",
   "execution_count": 6,
   "metadata": {},
   "outputs": [
    {
     "ename": "NameError",
     "evalue": "name 'datos' is not defined",
     "output_type": "error",
     "traceback": [
      "\u001b[0;31m---------------------------------------------------------------------------\u001b[0m",
      "\u001b[0;31mNameError\u001b[0m                                 Traceback (most recent call last)",
      "Cell \u001b[0;32mIn[6], line 2\u001b[0m\n\u001b[1;32m      1\u001b[0m fig, ax \u001b[38;5;241m=\u001b[39m plt\u001b[38;5;241m.\u001b[39msubplots(\u001b[38;5;241m1\u001b[39m, \u001b[38;5;241m1\u001b[39m, figsize\u001b[38;5;241m=\u001b[39m(\u001b[38;5;241m8\u001b[39m, \u001b[38;5;241m4\u001b[39m))\n\u001b[0;32m----> 2\u001b[0m sns\u001b[38;5;241m.\u001b[39mboxplot(x\u001b[38;5;241m=\u001b[39m\u001b[38;5;124m\"\u001b[39m\u001b[38;5;124mposicion\u001b[39m\u001b[38;5;124m\"\u001b[39m, y\u001b[38;5;241m=\u001b[39m\u001b[38;5;124m\"\u001b[39m\u001b[38;5;124mbateo\u001b[39m\u001b[38;5;124m\"\u001b[39m, data\u001b[38;5;241m=\u001b[39m\u001b[43mdatos\u001b[49m, ax\u001b[38;5;241m=\u001b[39max)\n\u001b[1;32m      3\u001b[0m sns\u001b[38;5;241m.\u001b[39mswarmplot(x\u001b[38;5;241m=\u001b[39m\u001b[38;5;124m\"\u001b[39m\u001b[38;5;124mposicion\u001b[39m\u001b[38;5;124m\"\u001b[39m, y\u001b[38;5;241m=\u001b[39m\u001b[38;5;124m\"\u001b[39m\u001b[38;5;124mbateo\u001b[39m\u001b[38;5;124m\"\u001b[39m, data\u001b[38;5;241m=\u001b[39mdatos, color\u001b[38;5;241m=\u001b[39m\u001b[38;5;124m\"\u001b[39m\u001b[38;5;124mblack\u001b[39m\u001b[38;5;124m\"\u001b[39m, alpha\u001b[38;5;241m=\u001b[39m\u001b[38;5;241m0.5\u001b[39m, ax\u001b[38;5;241m=\u001b[39max)\n",
      "\u001b[0;31mNameError\u001b[0m: name 'datos' is not defined"
     ]
    },
    {
     "data": {
      "image/png": "[encoded data removed]",
      "text/plain": [
       "<Figure size 800x400 with 1 Axes>"
      ]
     },
     "metadata": {},
     "output_type": "display_data"
    }
   ],
   "source": [
    "fig, ax = plt.subplots(1, 1, figsize=(8, 4))\n",
    "sns.boxplot(x=\"posicion\", y=\"bateo\", data=datos, ax=ax)\n",
    "sns.swarmplot(x=\"posicion\", y=\"bateo\", data=datos, color=\"black\", alpha=0.5, ax=ax);"
   ]
  },
  {
   "cell_type": "code",
   "execution_count": 7,
   "metadata": {},
   "outputs": [
    {
     "name": "stderr",
     "output_type": "stream",
     "text": [
      "/opt/homebrew/anaconda3/envs/mlcourse/lib/python3.9/site-packages/statsmodels/graphics/factorplots.py:113: FutureWarning: The provided callable <function mean at 0x107821af0> is currently using DataFrameGroupBy.mean. In a future version of pandas, the provided callable will be used directly. To keep current behavior pass the string \"mean\" instead.\n",
      "  plot_data = data.groupby(['trace', 'x']).aggregate(func).reset_index()\n"
     ]
    },
    {
     "data": {
      "image/png": "[encoded data removed]",
      "text/plain": [
       "<Figure size 640x480 with 1 Axes>"
      ]
     },
     "metadata": {},
     "output_type": "display_data"
    }
   ],
   "source": [
    "fig = interaction_plot(data.dose, data.supp, data.len,\n",
    "             colors=['red','blue'], markers=['D','^'], ms=10)"
   ]
  },
  {
   "cell_type": "markdown",
   "metadata": {},
   "source": [
    "#### Interpretación del Gráfico de Interacción\n",
    "\n",
    "El gráfico de interacción muestra la media de la longitud de los dientes (mean of len) en función de la dosis de Vitamina C (dose) para dos tipos de suplementos: jugo de naranja (OJ) y ácido ascórbico (VC).\n",
    "\n",
    "#### Análisis de la Gráfica\n",
    "\n",
    "1)Efecto de la Dosis:\n",
    "\n",
    "* La longitud de los dientes aumenta con la dosis de Vitamina C para ambos tipos de suplementos. Esto sugiere que mayores dosis de Vitamina C están asociadas con un mayor crecimiento dental.\n",
    "\n",
    "2) Comparación entre Suplementos:\n",
    "\n",
    "* Para la dosis de 0.5 mg, el jugo de naranja (OJ) tiene una mayor longitud promedio de los dientes en comparación con el ácido ascórbico (VC).\n",
    "* Para la dosis de 1.0 mg, el jugo de naranja (OJ) sigue mostrando una mayor longitud promedio de los dientes en comparación con el ácido ascórbico (VC).\n",
    "* Para la dosis de 2.0 mg, ambos suplementos parecen tener efectos similares, alcanzando aproximadamente la misma longitud promedio de los dientes."
   ]
  },
  {
   "cell_type": "markdown",
   "metadata": {},
   "source": [
    "# Calculation of Sum of Squares\n",
    "The calculations of the sum of squares (the variance in the data) are quite simple using Python. \n",
    "First, we start with getting the sample size (N) and the degree of freedoms needed. \n",
    "We will use them later to calculate the mean square. \n",
    "After we have the degree of freedom we continue with the calculation of the sum of squares."
   ]
  },
  {
   "cell_type": "markdown",
   "metadata": {},
   "source": [
    "# Degrees of Freedom"
   ]
  },
  {
   "cell_type": "code",
   "execution_count": 9,
   "metadata": {},
   "outputs": [],
   "source": [
    "N = len(data.len) # calcular el numiero de observaciones\n",
    "df_a = len(data.supp.unique()) - 1 # grados de libertad del factor A\n",
    "df_b = len(data.dose.unique()) - 1 # grados de libertad del factor B\n",
    "df_axb = df_a*df_b # grados de libertad de la interacción\n",
    "df_w = N - (len(data.supp.unique())*len(data.dose.unique())) # grados de libertad del error"
   ]
  },
  {
   "cell_type": "markdown",
   "metadata": {},
   "source": [
    "# Sum of Squares\n",
    "For the calculation of the sum of squares A, B and Total we will need to have the grand mean. Using Pandas DataFrame method mean on the dependent variable only will give us the grand mean:"
   ]
  },
  {
   "cell_type": "code",
   "execution_count": 10,
   "metadata": {},
   "outputs": [],
   "source": [
    "grand_mean = data['len'].mean()"
   ]
  },
  {
   "cell_type": "markdown",
   "metadata": {},
   "source": [
    "# Sum of Squares A – supp\n",
    "We start with calculation of Sum of Squares for the factor A (supp)."
   ]
  },
  {
   "cell_type": "code",
   "execution_count": 45,
   "metadata": {},
   "outputs": [
    {
     "name": "stdout",
     "output_type": "stream",
     "text": [
      "Suma de cuadrados del factor A (ssq_a): 205.3500000000003\n"
     ]
    }
   ],
   "source": [
    "# Inicializar la suma de cuadrados del factor A\n",
    "ssq_a = 0\n",
    "\n",
    "# Iterar sobre cada nivel único del suplemento\n",
    "for supp_level in data.supp.unique():\n",
    "    # Filtrar los datos para el nivel actual del suplemento\n",
    "    subset = data[data.supp == supp_level]\n",
    "\n",
    "    # Calcular la media de la longitud de los dientes para el nivel actual del suplemento\n",
    "    group_mean = subset.len.mean()\n",
    "\n",
    "    # Calcular la diferencia al cuadrado entre la media del grupo y la media general\n",
    "    squared_diff = (group_mean - grand_mean) ** 2\n",
    "\n",
    "    # Multiplicar la diferencia al cuadrado por el número de observaciones en el grupo\n",
    "    weighted_squared_diff = squared_diff * len(subset)\n",
    "\n",
    "    # Sumar al total de la suma de cuadrados del factor A\n",
    "    ssq_a += weighted_squared_diff\n",
    "\n",
    "# Mostrar el resultado\n",
    "print(f\"Suma de cuadrados del factor A (ssq_a): {ssq_a}\")"
   ]
  },
  {
   "cell_type": "markdown",
   "metadata": {},
   "source": [
    "# Sum of Squares B – dose\n",
    "Calculation of the second Sum of Square, B (dose), is pretty much the same but over the levels of that factor."
   ]
  },
  {
   "cell_type": "code",
   "execution_count": 46,
   "metadata": {},
   "outputs": [
    {
     "name": "stdout",
     "output_type": "stream",
     "text": [
      "Suma de cuadrados del factor A (ssq_b): 2426.4343333333345\n"
     ]
    }
   ],
   "source": [
    "# Calcular la suma de cuadrados del factor B (dosis)\n",
    "ssq_b = 0\n",
    "\n",
    "for dose_level in data.dose.unique():\n",
    "    subset = data[data.dose == dose_level]\n",
    "    group_mean = subset.len.mean()\n",
    "    squared_diff = (group_mean - grand_mean) ** 2\n",
    "    weighted_squared_diff = squared_diff * len(subset)\n",
    "    ssq_b += weighted_squared_diff\n",
    "\n",
    "print(f\"Suma de cuadrados del factor A (ssq_b): {ssq_b}\")"
   ]
  },
  {
   "cell_type": "markdown",
   "metadata": {},
   "source": [
    "# Sum of Squares Total"
   ]
  },
  {
   "cell_type": "code",
   "execution_count": 47,
   "metadata": {},
   "outputs": [
    {
     "data": {
      "text/plain": [
       "3452.2093333333332"
      ]
     },
     "execution_count": 47,
     "metadata": {},
     "output_type": "execute_result"
    }
   ],
   "source": [
    "# Calcular la suma de cuadrados total\n",
    "ssq_t = sum((data.len - grand_mean) ** 2)\n",
    "ssq_t"
   ]
  },
  {
   "cell_type": "markdown",
   "metadata": {},
   "source": [
    "# Sum of Squares Within (error/residual)\n",
    "Next, we need to calculate the Sum of Squares Within which is sometimes referred to as error or residual."
   ]
  },
  {
   "cell_type": "code",
   "execution_count": 48,
   "metadata": {},
   "outputs": [
    {
     "data": {
      "text/plain": [
       "712.106"
      ]
     },
     "execution_count": 48,
     "metadata": {},
     "output_type": "execute_result"
    }
   ],
   "source": [
    "# Calcular la suma de cuadrados dentro de los grupos (error)\n",
    "# Calcular la suma de cuadrados dentro de los grupos (error)\n",
    "ssq_w = 0\n",
    "for supp_level in data.supp.unique():\n",
    "    for dose_level in data.dose.unique():\n",
    "        subset = data[(data.supp == supp_level) & (data.dose == dose_level)]\n",
    "        group_mean = subset.len.mean()\n",
    "        squared_diff = (subset.len - group_mean) ** 2\n",
    "        ssq_w += sum(squared_diff)\n",
    "ssq_w"
   ]
  },
  {
   "cell_type": "markdown",
   "metadata": {},
   "source": [
    "# Sum of Squares interaction\n",
    "Since we have a two-way design we need to calculate the Sum of Squares for the interaction of A and B."
   ]
  },
  {
   "cell_type": "code",
   "execution_count": 49,
   "metadata": {},
   "outputs": [
    {
     "data": {
      "text/plain": [
       "108.31899999999837"
      ]
     },
     "execution_count": 49,
     "metadata": {},
     "output_type": "execute_result"
    }
   ],
   "source": [
    "# Calcular la suma de cuadrados de la interacción\n",
    "ssq_axb = ssq_t - ssq_a - ssq_b - ssq_w\n",
    "ssq_axb"
   ]
  },
  {
   "cell_type": "markdown",
   "metadata": {},
   "source": [
    "# Mean Squares\n",
    "We continue with the calculation of the mean square for each factor, the interaction of the factors, and within."
   ]
  },
  {
   "cell_type": "code",
   "execution_count": 50,
   "metadata": {},
   "outputs": [],
   "source": [
    "# Mean Square A\n",
    "ms_a = ssq_a/df_a\n",
    "\n",
    "# Mean Square B\n",
    "ms_b = ssq_b/df_b\n",
    "\n",
    "# Mean Square AxB\n",
    "ms_axb = ssq_axb/df_axb\n",
    "\n",
    "# Mean Square Within/Error/Residual\n",
    "ms_w = ssq_w/df_w"
   ]
  },
  {
   "cell_type": "markdown",
   "metadata": {},
   "source": [
    "# F-ratio\n",
    "The F-statistic is simply the mean square for each effect and the interaction \n",
    "divided by the mean square for within (error/residual)."
   ]
  },
  {
   "cell_type": "code",
   "execution_count": 51,
   "metadata": {},
   "outputs": [],
   "source": [
    "# F-ratio A\n",
    "f_a = ms_a/ms_w\n",
    "# F-ratio B\n",
    "f_b = ms_b/ms_w\n",
    "# F-ratio AxB\n",
    "f_axb = ms_axb/ms_w"
   ]
  },
  {
   "cell_type": "markdown",
   "metadata": {},
   "source": [
    "# Obtaining p-values\n",
    "We can use the scipy.stats method f.sf to check if our obtained F-ratios is above the critical value. Doing that we need to use our F-value for each effect and interaction as well as the degrees of freedom for them, and the degree of freedom within."
   ]
  },
  {
   "cell_type": "code",
   "execution_count": 52,
   "metadata": {},
   "outputs": [],
   "source": [
    "# Calcular los valores p\n",
    "p_a = stats.f.sf(f_a, df_a, df_w)\n",
    "p_b = stats.f.sf(f_b, df_b, df_w)\n",
    "p_axb = stats.f.sf(f_axb, df_axb, df_w)"
   ]
  },
  {
   "cell_type": "markdown",
   "metadata": {},
   "source": [
    "The results are, right now, stored in a lot of variables. To obtain a more readable result we can create a DataFrame that will contain our ANOVA table."
   ]
  },
  {
   "cell_type": "code",
   "execution_count": 53,
   "metadata": {},
   "outputs": [],
   "source": [
    "import numpy as np\n",
    "# Crear tabla de resultados\n",
    "results = {\n",
    "    \"sum_sq\": [ssq_a, ssq_b, ssq_axb, ssq_w],\n",
    "    \"df\": [df_a, df_b, df_axb, df_w],\n",
    "    \"F\": [f_a, f_b, f_axb, np.nan],\n",
    "    \"PR(>F)\": [p_a, p_b, p_axb, np.nan],\n",
    "}\n",
    "columns = [\"sum_sq\", \"df\", \"F\", \"PR(>F)\"]\n",
    "aov_table1 = pd.DataFrame(\n",
    "    results, columns=columns, index=[\"supp\", \"dose\", \"supp:dose\", \"Residual\"]\n",
    ")"
   ]
  },
  {
   "cell_type": "markdown",
   "metadata": {},
   "source": [
    "So, common software, such as SPSS has eta squared as output. However, eta squared is an overestimation of the effect. To get a less biased effect size measure we can use omega squared. The following two functions add eta squared and omega squared to the above DataFrame that contains the ANOVA table."
   ]
  },
  {
   "cell_type": "code",
   "execution_count": 56,
   "metadata": {},
   "outputs": [
    {
     "name": "stderr",
     "output_type": "stream",
     "text": [
      "/var/folders/gb/wf3d1d_d2bz689q8kdbw02880000gn/T/ipykernel_16199/3938858706.py:9: FutureWarning: Series.__getitem__ treating keys as positions is deprecated. In a future version, integer keys will always be treated as labels (consistent with DataFrame behavior). To access a value by position, use `ser.iloc[pos]`\n",
      "  mse = aov[\"sum_sq\"][-1] / aov[\"df\"][-1]\n"
     ]
    },
    {
     "data": {
      "text/html": [
       "<div>\n",
       "<style scoped>\n",
       "    .dataframe tbody tr th:only-of-type {\n",
       "        vertical-align: middle;\n",
       "    }\n",
       "\n",
       "    .dataframe tbody tr th {\n",
       "        vertical-align: top;\n",
       "    }\n",
       "\n",
       "    .dataframe thead th {\n",
       "        text-align: right;\n",
       "    }\n",
       "</style>\n",
       "<table border=\"1\" class=\"dataframe\">\n",
       "  <thead>\n",
       "    <tr style=\"text-align: right;\">\n",
       "      <th></th>\n",
       "      <th>sum_sq</th>\n",
       "      <th>df</th>\n",
       "      <th>F</th>\n",
       "      <th>PR(&gt;F)</th>\n",
       "      <th>eta_sq</th>\n",
       "      <th>omega_sq</th>\n",
       "    </tr>\n",
       "  </thead>\n",
       "  <tbody>\n",
       "    <tr>\n",
       "      <th>supp</th>\n",
       "      <td>205.350000</td>\n",
       "      <td>1</td>\n",
       "      <td>15.571979</td>\n",
       "      <td>2.311828e-04</td>\n",
       "      <td>0.059484</td>\n",
       "      <td>0.055452</td>\n",
       "    </tr>\n",
       "    <tr>\n",
       "      <th>dose</th>\n",
       "      <td>2426.434333</td>\n",
       "      <td>2</td>\n",
       "      <td>91.999965</td>\n",
       "      <td>4.046291e-18</td>\n",
       "      <td>0.702864</td>\n",
       "      <td>0.692579</td>\n",
       "    </tr>\n",
       "    <tr>\n",
       "      <th>supp:dose</th>\n",
       "      <td>108.319000</td>\n",
       "      <td>2</td>\n",
       "      <td>4.106991</td>\n",
       "      <td>2.186027e-02</td>\n",
       "      <td>0.031377</td>\n",
       "      <td>0.023647</td>\n",
       "    </tr>\n",
       "    <tr>\n",
       "      <th>Residual</th>\n",
       "      <td>712.106000</td>\n",
       "      <td>54</td>\n",
       "      <td>NaN</td>\n",
       "      <td>NaN</td>\n",
       "      <td>NaN</td>\n",
       "      <td>NaN</td>\n",
       "    </tr>\n",
       "  </tbody>\n",
       "</table>\n",
       "</div>"
      ],
      "text/plain": [
       "                sum_sq  df          F        PR(>F)    eta_sq  omega_sq\n",
       "supp        205.350000   1  15.571979  2.311828e-04  0.059484  0.055452\n",
       "dose       2426.434333   2  91.999965  4.046291e-18  0.702864  0.692579\n",
       "supp:dose   108.319000   2   4.106991  2.186027e-02  0.031377  0.023647\n",
       "Residual    712.106000  54        NaN           NaN       NaN       NaN"
      ]
     },
     "execution_count": 56,
     "metadata": {},
     "output_type": "execute_result"
    }
   ],
   "source": [
    "# Calcular eta_squared y omega_squared\n",
    "def eta_squared(aov):\n",
    "    aov[\"eta_sq\"] = \"NaN\"\n",
    "    aov[\"eta_sq\"] = aov.iloc[:-1][\"sum_sq\"] / sum(aov[\"sum_sq\"])\n",
    "    return aov\n",
    "\n",
    "\n",
    "def omega_squared(aov):\n",
    "    mse = aov[\"sum_sq\"][-1] / aov[\"df\"][-1]\n",
    "    aov[\"omega_sq\"] = \"NaN\"\n",
    "    aov[\"omega_sq\"] = (aov.iloc[:-1][\"sum_sq\"] - (aov.iloc[:-1][\"df\"] * mse)) / (\n",
    "        sum(aov[\"sum_sq\"]) + mse\n",
    "    )\n",
    "    return aov\n",
    "\n",
    "\n",
    "aov_table1 = eta_squared(aov_table1)\n",
    "aov_table1 = omega_squared(aov_table1)\n",
    "\n",
    "aov_table1"
   ]
  },
  {
   "cell_type": "markdown",
   "metadata": {},
   "source": [
    "## Interpretación y Conclusiones\n",
    "1) Efecto del Suplemento (supp):\n",
    "\n",
    "* Suma de Cuadrados (sum_sq): 205.35\n",
    "* Grados de Libertad (df): 1\n",
    "* Valor F (F): 15.572\n",
    "* Valor p (PR(>F)): 0.000\n",
    "* Eta Cuadrado (eta_sq): 0.059\n",
    "* Omega Cuadrado (omega_sq): 0.055\n",
    "\n",
    "Conclusión: Hay una diferencia significativa en la longitud de los dientes entre los tipos de suplemento (OJ y VC). El valor p es menor que 0.05, indicando que el efecto del tipo de suplemento es estadísticamente significativo. El eta cuadrado y el omega cuadrado sugieren que aproximadamente el 5.9% de la variabilidad en la longitud de los dientes puede ser explicada por el tipo de suplemento.\n",
    "\n",
    "2) Efecto de la Dosis (dose):\n",
    "\n",
    "* Suma de Cuadrados (sum_sq): 2426.434\n",
    "* Grados de Libertad (df): 2\n",
    "* Valor F (F): 92.000\n",
    "* Valor p (PR(>F)): 0.000\n",
    "* Eta Cuadrado (eta_sq): 0.703\n",
    "* Omega Cuadrado (omega_sq): 0.693\n",
    "\n",
    "Conclusión: Hay una diferencia altamente significativa en la longitud de los dientes entre las diferentes dosis de Vitamina C (0.5, 1.0, y 2.0 mg). El valor p es extremadamente bajo (0.000), indicando que la dosis tiene un impacto estadísticamente significativo en la longitud de los dientes. El eta cuadrado y el omega cuadrado sugieren que aproximadamente el 70.3% de la variabilidad en la longitud de los dientes puede ser explicada por la dosis de Vitamina C.\n",
    "\n",
    "3) Interacción entre Suplemento y Dosis (supp:dose):\n",
    "\n",
    "* Suma de Cuadrados (sum_sq): 108.319\n",
    "* Grados de Libertad (df): 2\n",
    "* Valor F (F): 4.107\n",
    "* Valor p (PR(>F)): 0.022\n",
    "* Eta Cuadrado (eta_sq): 0.031\n",
    "* Omega Cuadrado (omega_sq): 0.024\n",
    "\n",
    "Conclusión: Existe una interacción significativa entre el tipo de suplemento y la dosis de Vitamina C. El valor p es menor que 0.05, indicando que la combinación de suplemento y dosis tiene un efecto estadísticamente significativo en la longitud de los dientes. El eta cuadrado y el omega cuadrado sugieren que aproximadamente el 3.1% de la variabilidad en la longitud de los dientes puede ser explicada por la interacción entre el tipo de suplemento y la dosis.\n",
    "\n",
    "4) Residual:\n",
    "\n",
    "* Suma de Cuadrados (sum_sq): 712.106\n",
    "* Grados de Libertad (df): 54\n",
    "\n",
    "Conclusión: La variabilidad residual representa la variabilidad en la longitud de los dientes que no puede ser explicada por los factores considerados en el modelo (suplemento, dosis, e interacción). Esta variabilidad puede deberse a otras fuentes de error o factores no medidos.\n",
    "\n",
    "### Resumen General\n",
    "El análisis ANOVA revela que tanto el tipo de suplemento como la dosis de Vitamina C tienen efectos significativos en la longitud de los dientes en cobayas. Además, hay una interacción significativa entre el tipo de suplemento y la dosis, lo que sugiere que el efecto de la dosis varía dependiendo del tipo de suplemento administrado. Estos resultados son importantes para entender cómo diferentes combinaciones de suplementos y dosis pueden influir en el crecimiento dental."
   ]
  },
  {
   "cell_type": "markdown",
   "metadata": {},
   "source": [
    "\n",
    "\n",
    "\n",
    "# Two-way ANOVA using Statsmodels\n",
    "There is, of course, a much easier way to do Two-way ANOVA with Python. We can use Statsmodels which have a similar model notation as many R-packages (e.g., lm). We start with the formulation of the model:"
   ]
  },
  {
   "cell_type": "code",
   "execution_count": 22,
   "metadata": {},
   "outputs": [],
   "source": [
    "formula = 'len ~ C(supp) + C(dose) + C(supp):C(dose)'\n",
    "model = ols(formula, data).fit()\n",
    "aov_table = anova_lm(model, typ=2)"
   ]
  },
  {
   "cell_type": "markdown",
   "metadata": {},
   "source": [
    "Statsmodels does not calculate effect sizes for us. My functions above can, again, be used and will add omega and eta squared effect sizes to the ANOVA table. Actually, I created these two functions to enable calculation of omega and eta squared effect sizes on the output of Statsmodels anova_lm method. Note, statsmodels can be installed with e.g. pip or conda."
   ]
  },
  {
   "cell_type": "code",
   "execution_count": 23,
   "metadata": {},
   "outputs": [
    {
     "name": "stderr",
     "output_type": "stream",
     "text": [
      "/var/folders/gb/wf3d1d_d2bz689q8kdbw02880000gn/T/ipykernel_16199/3470025195.py:6: FutureWarning: Series.__getitem__ treating keys as positions is deprecated. In a future version, integer keys will always be treated as labels (consistent with DataFrame behavior). To access a value by position, use `ser.iloc[pos]`\n",
      "  mse = aov['sum_sq'][-1]/aov['df'][-1]\n"
     ]
    },
    {
     "data": {
      "text/html": [
       "<div>\n",
       "<style scoped>\n",
       "    .dataframe tbody tr th:only-of-type {\n",
       "        vertical-align: middle;\n",
       "    }\n",
       "\n",
       "    .dataframe tbody tr th {\n",
       "        vertical-align: top;\n",
       "    }\n",
       "\n",
       "    .dataframe thead th {\n",
       "        text-align: right;\n",
       "    }\n",
       "</style>\n",
       "<table border=\"1\" class=\"dataframe\">\n",
       "  <thead>\n",
       "    <tr style=\"text-align: right;\">\n",
       "      <th></th>\n",
       "      <th>sum_sq</th>\n",
       "      <th>df</th>\n",
       "      <th>F</th>\n",
       "      <th>PR(&gt;F)</th>\n",
       "      <th>eta_sq</th>\n",
       "      <th>omega_sq</th>\n",
       "    </tr>\n",
       "  </thead>\n",
       "  <tbody>\n",
       "    <tr>\n",
       "      <th>C(supp)</th>\n",
       "      <td>205.350</td>\n",
       "      <td>1.0</td>\n",
       "      <td>15.572</td>\n",
       "      <td>0.000</td>\n",
       "      <td>0.059</td>\n",
       "      <td>0.055</td>\n",
       "    </tr>\n",
       "    <tr>\n",
       "      <th>C(dose)</th>\n",
       "      <td>2426.434</td>\n",
       "      <td>2.0</td>\n",
       "      <td>92.000</td>\n",
       "      <td>0.000</td>\n",
       "      <td>0.703</td>\n",
       "      <td>0.693</td>\n",
       "    </tr>\n",
       "    <tr>\n",
       "      <th>C(supp):C(dose)</th>\n",
       "      <td>108.319</td>\n",
       "      <td>2.0</td>\n",
       "      <td>4.107</td>\n",
       "      <td>0.022</td>\n",
       "      <td>0.031</td>\n",
       "      <td>0.024</td>\n",
       "    </tr>\n",
       "    <tr>\n",
       "      <th>Residual</th>\n",
       "      <td>712.106</td>\n",
       "      <td>54.0</td>\n",
       "      <td>NaN</td>\n",
       "      <td>NaN</td>\n",
       "      <td>NaN</td>\n",
       "      <td>NaN</td>\n",
       "    </tr>\n",
       "  </tbody>\n",
       "</table>\n",
       "</div>"
      ],
      "text/plain": [
       "                   sum_sq    df       F  PR(>F)  eta_sq  omega_sq\n",
       "C(supp)           205.350   1.0  15.572   0.000   0.059     0.055\n",
       "C(dose)          2426.434   2.0  92.000   0.000   0.703     0.693\n",
       "C(supp):C(dose)   108.319   2.0   4.107   0.022   0.031     0.024\n",
       "Residual          712.106  54.0     NaN     NaN     NaN       NaN"
      ]
     },
     "execution_count": 23,
     "metadata": {},
     "output_type": "execute_result"
    }
   ],
   "source": [
    "eta_squared(aov_table)\n",
    "omega_squared(aov_table)\n",
    "aov_table.round(3)"
   ]
  },
  {
   "cell_type": "markdown",
   "metadata": {},
   "source": [
    "What is neat with using statsmodels is that we can also do some diagnostics. It is, for instance, very easy to take our model fit (the linear model fitted with the OLS method) and get a Quantile-Quantile (QQplot):"
   ]
  },
  {
   "cell_type": "code",
   "execution_count": 24,
   "metadata": {},
   "outputs": [
    {
     "data": {
      "image/png": "[encoded data removed]",
      "text/plain": [
       "<Figure size 640x480 with 1 Axes>"
      ]
     },
     "metadata": {},
     "output_type": "display_data"
    }
   ],
   "source": [
    "res = model.resid \n",
    "fig = sm.qqplot(res, stats.t, fit=True, line=\"45\")\n",
    "plt.show()"
   ]
  },
  {
   "cell_type": "markdown",
   "metadata": {},
   "source": [
    "# Two-Way ANOVA using Pingouin\n",
    "Here, Pingouin offers a very easy way to for ANOVA in Python.\n",
    "Unfortunatelly, it doesn't work on the Kaggle site (in reason of this library, which i use), but you can copy these few lines of code..."
   ]
  },
  {
   "cell_type": "code",
   "execution_count": 25,
   "metadata": {},
   "outputs": [
    {
     "data": {
      "text/html": [
       "<div>\n",
       "<style scoped>\n",
       "    .dataframe tbody tr th:only-of-type {\n",
       "        vertical-align: middle;\n",
       "    }\n",
       "\n",
       "    .dataframe tbody tr th {\n",
       "        vertical-align: top;\n",
       "    }\n",
       "\n",
       "    .dataframe thead th {\n",
       "        text-align: right;\n",
       "    }\n",
       "</style>\n",
       "<table border=\"1\" class=\"dataframe\">\n",
       "  <thead>\n",
       "    <tr style=\"text-align: right;\">\n",
       "      <th></th>\n",
       "      <th>Unnamed: 0</th>\n",
       "      <th>len</th>\n",
       "      <th>supp</th>\n",
       "      <th>dose</th>\n",
       "    </tr>\n",
       "  </thead>\n",
       "  <tbody>\n",
       "    <tr>\n",
       "      <th>0</th>\n",
       "      <td>1</td>\n",
       "      <td>4.2</td>\n",
       "      <td>VC</td>\n",
       "      <td>0.5</td>\n",
       "    </tr>\n",
       "    <tr>\n",
       "      <th>1</th>\n",
       "      <td>2</td>\n",
       "      <td>11.5</td>\n",
       "      <td>VC</td>\n",
       "      <td>0.5</td>\n",
       "    </tr>\n",
       "    <tr>\n",
       "      <th>2</th>\n",
       "      <td>3</td>\n",
       "      <td>7.3</td>\n",
       "      <td>VC</td>\n",
       "      <td>0.5</td>\n",
       "    </tr>\n",
       "    <tr>\n",
       "      <th>3</th>\n",
       "      <td>4</td>\n",
       "      <td>5.8</td>\n",
       "      <td>VC</td>\n",
       "      <td>0.5</td>\n",
       "    </tr>\n",
       "    <tr>\n",
       "      <th>4</th>\n",
       "      <td>5</td>\n",
       "      <td>6.4</td>\n",
       "      <td>VC</td>\n",
       "      <td>0.5</td>\n",
       "    </tr>\n",
       "  </tbody>\n",
       "</table>\n",
       "</div>"
      ],
      "text/plain": [
       "   Unnamed: 0   len supp  dose\n",
       "0           1   4.2   VC   0.5\n",
       "1           2  11.5   VC   0.5\n",
       "2           3   7.3   VC   0.5\n",
       "3           4   5.8   VC   0.5\n",
       "4           5   6.4   VC   0.5"
      ]
     },
     "execution_count": 25,
     "metadata": {},
     "output_type": "execute_result"
    }
   ],
   "source": [
    "import pingouin as pg\n",
    "data = pd.read_csv(datafile)\n",
    "data.head()"
   ]
  },
  {
   "cell_type": "code",
   "execution_count": 26,
   "metadata": {},
   "outputs": [
    {
     "data": {
      "text/html": [
       "<div>\n",
       "<style scoped>\n",
       "    .dataframe tbody tr th:only-of-type {\n",
       "        vertical-align: middle;\n",
       "    }\n",
       "\n",
       "    .dataframe tbody tr th {\n",
       "        vertical-align: top;\n",
       "    }\n",
       "\n",
       "    .dataframe thead th {\n",
       "        text-align: right;\n",
       "    }\n",
       "</style>\n",
       "<table border=\"1\" class=\"dataframe\">\n",
       "  <thead>\n",
       "    <tr style=\"text-align: right;\">\n",
       "      <th></th>\n",
       "      <th>Source</th>\n",
       "      <th>SS</th>\n",
       "      <th>DF</th>\n",
       "      <th>MS</th>\n",
       "      <th>F</th>\n",
       "      <th>p-unc</th>\n",
       "      <th>np2</th>\n",
       "    </tr>\n",
       "  </thead>\n",
       "  <tbody>\n",
       "    <tr>\n",
       "      <th>0</th>\n",
       "      <td>supp</td>\n",
       "      <td>205.350000</td>\n",
       "      <td>1</td>\n",
       "      <td>205.350000</td>\n",
       "      <td>15.571979</td>\n",
       "      <td>2.311828e-04</td>\n",
       "      <td>0.223825</td>\n",
       "    </tr>\n",
       "    <tr>\n",
       "      <th>1</th>\n",
       "      <td>dose</td>\n",
       "      <td>2426.434333</td>\n",
       "      <td>2</td>\n",
       "      <td>1213.217167</td>\n",
       "      <td>91.999965</td>\n",
       "      <td>4.046291e-18</td>\n",
       "      <td>0.773109</td>\n",
       "    </tr>\n",
       "    <tr>\n",
       "      <th>2</th>\n",
       "      <td>supp * dose</td>\n",
       "      <td>108.319000</td>\n",
       "      <td>2</td>\n",
       "      <td>54.159500</td>\n",
       "      <td>4.106991</td>\n",
       "      <td>2.186027e-02</td>\n",
       "      <td>0.132028</td>\n",
       "    </tr>\n",
       "    <tr>\n",
       "      <th>3</th>\n",
       "      <td>Residual</td>\n",
       "      <td>712.106000</td>\n",
       "      <td>54</td>\n",
       "      <td>13.187148</td>\n",
       "      <td>NaN</td>\n",
       "      <td>NaN</td>\n",
       "      <td>NaN</td>\n",
       "    </tr>\n",
       "  </tbody>\n",
       "</table>\n",
       "</div>"
      ],
      "text/plain": [
       "        Source           SS  DF           MS          F         p-unc  \\\n",
       "0         supp   205.350000   1   205.350000  15.571979  2.311828e-04   \n",
       "1         dose  2426.434333   2  1213.217167  91.999965  4.046291e-18   \n",
       "2  supp * dose   108.319000   2    54.159500   4.106991  2.186027e-02   \n",
       "3     Residual   712.106000  54    13.187148        NaN           NaN   \n",
       "\n",
       "        np2  \n",
       "0  0.223825  \n",
       "1  0.773109  \n",
       "2  0.132028  \n",
       "3       NaN  "
      ]
     },
     "execution_count": 26,
     "metadata": {},
     "output_type": "execute_result"
    }
   ],
   "source": [
    "aov = pg.anova(data, dv='len', between=['supp', 'dose'], detailed=True)\n",
    "aov"
   ]
  },
  {
   "cell_type": "markdown",
   "metadata": {},
   "source": [
    "# Recursos:\n",
    "* [Cienciadedatos.net](https://cienciadedatos.net/documentos/pystats09-analisis-de-varianza-anova-python)\n",
    "* [Notebook original](https://www.kaggle.com/code/alexmaszanski/two-way-anova-with-python/comments): Tiene un error en el calculo de la interacción en la forma manual. Corregido aquí.\n",
    "* [Notebook de kaggle más detallado](https://www.marsja.se/three-ways-to-carry-out-2-way-anova-with-python/): También contiene el error."
   ]
  }
 ],
 "metadata": {
  "kaggle": {
   "accelerator": "none",
   "dataSources": [
    {
     "datasetId": 1063844,
     "sourceId": 1789854,
     "sourceType": "datasetVersion"
    }
   ],
   "dockerImageVersionId": 30042,
   "isGpuEnabled": false,
   "isInternetEnabled": true,
   "language": "python",
   "sourceType": "notebook"
  },
  "kernelspec": {
   "display_name": "Python 3 (ipykernel)",
   "language": "python",
   "name": "python3"
  },
  "language_info": {
   "codemirror_mode": {
    "name": "ipython",
    "version": 3
   },
   "file_extension": ".py",
   "mimetype": "text/x-python",
   "name": "python",
   "nbconvert_exporter": "python",
   "pygments_lexer": "ipython3",
   "version": "3.9.19"
  }
 },
 "nbformat": 4,
 "nbformat_minor": 4
}
